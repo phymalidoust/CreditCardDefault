{
 "cells": [
  {
   "cell_type": "code",
   "execution_count": 1,
   "id": "1e949ca4",
   "metadata": {},
   "outputs": [],
   "source": [
    "import pandas  as pd # Pandas is a library for data manipulation and analysis. It offers data structures and operations for tables\n",
    "import numpy   as np # NumPy is a library, supporting for large, multi-dimensional arrays and matrices, along with a large collection of high-level mathematical functions to operate on these arrays.\n",
    "\n",
    "bl = pd.read_excel('credit_card_data.xlsx',sheet_name='Bill_Last6Months') # loads the data file\n",
    "dm = pd.read_excel('credit_card_data.xlsx',sheet_name='Demographic') # loads the data file"
   ]
  },
  {
   "cell_type": "code",
   "execution_count": 2,
   "id": "65b52f87",
   "metadata": {},
   "outputs": [],
   "source": [
    "bl['Bill_Amount'] = np.select([pd.to_numeric(bl['Bill_Amount']) != 0 ], [1])\n",
    "bl['Bill_Amount'].replace({0:'no',1:'yes'}, inplace=True) # If a bill is issued returns 'yes' otherwise 'no' \n",
    "\n",
    "bl_new = bl.pivot(index='ID', columns='Month', values='Bill_Amount') # Reshaphes DB to be merged with 'dm'\n",
    "\n",
    "db = pd.merge(bl_new, dm, on=\"ID\") # Merges 'bl' and 'dm' DBs\n",
    "\n",
    "db = db.dropna() # Removes rows with NaN values "
   ]
  },
  {
   "cell_type": "code",
   "execution_count": 3,
   "id": "c5bc25ed",
   "metadata": {},
   "outputs": [],
   "source": [
    "db.columns = ['ID',\n",
    "              'DATE-2021-07-01',\n",
    "              'DATE-2021-08-01',\n",
    "              'DATE-2021-09-01',\n",
    "              'DATE-2021-10-01',\n",
    "              'DATE-2021-11-01',\n",
    "              'DATE-2021-12-01',\n",
    "              'ACCOUNT_TYPE',\n",
    "              'LIMIT_BAL',\n",
    "              'GENDER',\n",
    "              'AGE',\n",
    "              'MARITAL_STATUS',\n",
    "              'EDUCATION',\n",
    "              'JOB_TYPE',\n",
    "              'HOUSING',\n",
    "              'LOAN',\n",
    "              'default payment in Jan 2022'] # Renames the columns in DB for convience"
   ]
  },
  {
   "cell_type": "markdown",
   "id": "546783f5",
   "metadata": {},
   "source": [
    "* Now we would like to checkout columns for any possible defects by grouping the available data in each column. \n",
    "<br />\n",
    "If a defct is detected, it will be fixed by 'replace' command."
   ]
  },
  {
   "cell_type": "code",
   "execution_count": 4,
   "id": "2f1d07d4",
   "metadata": {},
   "outputs": [
    {
     "name": "stdout",
     "output_type": "stream",
     "text": [
      "DATE-2021-12-01\n",
      "no      3969\n",
      "yes    25896\n",
      "dtype: int64\n"
     ]
    }
   ],
   "source": [
    "print(db.groupby('DATE-2021-12-01').size()) "
   ]
  },
  {
   "cell_type": "code",
   "execution_count": 5,
   "id": "6a9d03b8",
   "metadata": {},
   "outputs": [
    {
     "name": "stdout",
     "output_type": "stream",
     "text": [
      "ACCOUNT_TYPE\n",
      "Current account    15726\n",
      "Salary account     11162\n",
      "Savings account     2977\n",
      "dtype: int64\n"
     ]
    }
   ],
   "source": [
    "print(db.groupby('ACCOUNT_TYPE').size())"
   ]
  },
  {
   "cell_type": "code",
   "execution_count": 6,
   "id": "2f4bb021",
   "metadata": {},
   "outputs": [
    {
     "name": "stdout",
     "output_type": "stream",
     "text": [
      "GENDER\n",
      "Female    18005\n",
      "Male      11860\n",
      "dtype: int64\n"
     ]
    }
   ],
   "source": [
    "# print(db.groupby('GENDER').size())\n",
    "db['GENDER'].replace({259225:'Female'}, inplace=True)\n",
    "print(db.groupby('GENDER').size())"
   ]
  },
  {
   "cell_type": "code",
   "execution_count": 7,
   "id": "ebc9eeba",
   "metadata": {},
   "outputs": [
    {
     "name": "stdout",
     "output_type": "stream",
     "text": [
      "MARITAL_STATUS\n",
      "Divorced     3497\n",
      "Married     18819\n",
      "Single       7491\n",
      "unknown        58\n",
      "dtype: int64\n"
     ]
    }
   ],
   "source": [
    "# print(db.groupby('MARITAL_STATUS').size())\n",
    "db['MARITAL_STATUS'].replace({'Dirvoce':'Divorced','yes':'unknown'}, inplace=True)\n",
    "print(db.groupby('MARITAL_STATUS').size())"
   ]
  },
  {
   "cell_type": "code",
   "execution_count": 8,
   "id": "baab4973",
   "metadata": {},
   "outputs": [
    {
     "name": "stdout",
     "output_type": "stream",
     "text": [
      "EDUCATION\n",
      "College degree       3362\n",
      "High school          6347\n",
      "Middle school        2238\n",
      "No education           17\n",
      "Primary school       4320\n",
      "Secondary school     4808\n",
      "Vocational degree    7256\n",
      "unknown              1517\n",
      "dtype: int64\n"
     ]
    }
   ],
   "source": [
    "# print(db.groupby('EDUCATION').size())\n",
    "db['EDUCATION'].replace(\n",
    "    {'Female':'unknown',\n",
    "     'Male':'unknown',\n",
    "     'School':'unknown',\n",
    "     'unknown+G21962':'unknown',\n",
    "      'HIghSchool':'High school',\n",
    "    'Vcaotional degree':'Vocational degree'\n",
    "    }, inplace=True)\n",
    "print(db.groupby('EDUCATION').size())"
   ]
  },
  {
   "cell_type": "code",
   "execution_count": 9,
   "id": "e1fbca5b",
   "metadata": {},
   "outputs": [
    {
     "name": "stdout",
     "output_type": "stream",
     "text": [
      "JOB_TYPE\n",
      "Administration    6924\n",
      "Business owner    1483\n",
      "Entreprenuer      1266\n",
      "House help        1075\n",
      "Management        2043\n",
      "Part-time         6660\n",
      "Retired            909\n",
      "Services          2788\n",
      "Student            274\n",
      "Technician        5224\n",
      "Unemployed         962\n",
      "unknown            257\n",
      "dtype: int64\n"
     ]
    }
   ],
   "source": [
    "# print(db.groupby('JOB_TYPE').size())\n",
    "db['JOB_TYPE'].replace(\n",
    "    {29:'unknown',\n",
    "     49685:'unknown',\n",
    "     'Admin.':'Administration',\n",
    "      'unemployed':'Unemployed'\n",
    "    }, inplace=True)\n",
    "print(db.groupby('JOB_TYPE').size())"
   ]
  },
  {
   "cell_type": "code",
   "execution_count": 10,
   "id": "ed4f3ada",
   "metadata": {},
   "outputs": [
    {
     "name": "stdout",
     "output_type": "stream",
     "text": [
      "HOUSING\n",
      "no         13907\n",
      "unknown      731\n",
      "yes        15227\n",
      "dtype: int64\n"
     ]
    }
   ],
   "source": [
    "print(db.groupby('HOUSING').size())"
   ]
  },
  {
   "cell_type": "code",
   "execution_count": 11,
   "id": "171fb695",
   "metadata": {},
   "outputs": [
    {
     "name": "stdout",
     "output_type": "stream",
     "text": [
      "LOAN\n",
      "no         24608\n",
      "unknown      733\n",
      "yes         4524\n",
      "dtype: int64\n"
     ]
    }
   ],
   "source": [
    "print(db.groupby('LOAN').size())"
   ]
  },
  {
   "cell_type": "code",
   "execution_count": 12,
   "id": "15494c05",
   "metadata": {},
   "outputs": [
    {
     "name": "stdout",
     "output_type": "stream",
     "text": [
      "default payment in Jan 2022\n",
      "0.0    26552\n",
      "1.0     3313\n",
      "dtype: int64\n"
     ]
    }
   ],
   "source": [
    "print(db.groupby('default payment in Jan 2022').size())"
   ]
  },
  {
   "cell_type": "code",
   "execution_count": 13,
   "id": "d314052a",
   "metadata": {},
   "outputs": [],
   "source": [
    "db.to_excel('database_fixed.xlsx', sheet_name='db_merged_bill_demo', index = False) # Stores the fixed database as a new file 'database_fixed.xlsx'"
   ]
  }
 ],
 "metadata": {
  "kernelspec": {
   "display_name": "Python 3 (ipykernel)",
   "language": "python",
   "name": "python3"
  },
  "language_info": {
   "codemirror_mode": {
    "name": "ipython",
    "version": 3
   },
   "file_extension": ".py",
   "mimetype": "text/x-python",
   "name": "python",
   "nbconvert_exporter": "python",
   "pygments_lexer": "ipython3",
   "version": "3.7.1rc1"
  }
 },
 "nbformat": 4,
 "nbformat_minor": 5
}
